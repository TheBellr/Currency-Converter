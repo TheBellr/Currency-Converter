{
 "cells": [
  {
   "cell_type": "markdown",
   "id": "637c8ef8-08b3-4012-bb27-c13d2746bb29",
   "metadata": {},
   "source": [
    "# Currency Converter\n",
    "\n",
    "Create a simple currency converter that allows users to convert between different currencies. Use a dictionary to store exchange rates. Implement control flow to handle the conversion process, taking input for the amount, source currency, and target currency."
   ]
  },
  {
   "cell_type": "code",
   "execution_count": null,
   "id": "e6448322-10a4-4e91-9666-c10db319fa45",
   "metadata": {},
   "outputs": [],
   "source": [
    "exchange_rates = {\n",
    "        'USD': {'EUR': 0.92, 'GBP': 0.79, 'NGN': 1163.00},\n",
    "        'EUR': {'USD': 1.08, 'GBP': 0.86, 'NGN': 1273.33},\n",
    "        'GBP': {'USD': 1.26, 'EUR': 1.17, 'NGN': 1013.40},\n",
    "        'NGN': {'USD': 0.00125, 'EUR': 0.00115, 'GBP': 0.00099}\n",
    "    }\n",
    "\n",
    "amount = float(input(\"Enter the amount in figures: \"))\n",
    "if amount < 0:\n",
    "    print(\"Please enter a positive number.\")\n",
    "else:\n",
    "    source_currency = input(\"Enter your currency code: \").upper()\n",
    "\n",
    "    if source_currency not in exchange_rates:\n",
    "        print(\"Please check your currency code and try again.\")\n",
    "    else:\n",
    "        target_currency = input(\"Currency code would you like to convert to: \").upper()\n",
    "    \n",
    "        if target_currency not in exchange_rates:\n",
    "            print(\"Please check your currency code and try again.\")\n",
    "        elif source_currency == target_currency:\n",
    "            print(str(amount) +' ' + source_currency + '. No conversion made.')\n",
    "        else:\n",
    "            exchange_rate = exchange_rates[source_currency][target_currency]\n",
    "            converted_amount = amount * exchange_rate\n",
    "\n",
    "            print(str(amount) +' ' + source_currency + ' is equal to ' + str (converted_amount) +' ' + target_currency)"
   ]
  }
 ],
 "metadata": {
  "kernelspec": {
   "display_name": "Python 3 (ipykernel)",
   "language": "python",
   "name": "python3"
  },
  "language_info": {
   "codemirror_mode": {
    "name": "ipython",
    "version": 3
   },
   "file_extension": ".py",
   "mimetype": "text/x-python",
   "name": "python",
   "nbconvert_exporter": "python",
   "pygments_lexer": "ipython3",
   "version": "3.11.5"
  }
 },
 "nbformat": 4,
 "nbformat_minor": 5
}
